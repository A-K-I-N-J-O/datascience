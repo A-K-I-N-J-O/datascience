{
 "cells": [
  {
   "cell_type": "code",
   "execution_count": 1,
   "metadata": {
    "collapsed": false
   },
   "outputs": [],
   "source": [
    "from datascience import *"
   ]
  },
  {
   "cell_type": "code",
   "execution_count": 2,
   "metadata": {
    "collapsed": false
   },
   "outputs": [
    {
     "data": {
      "text/html": [
       "<iframe srcdoc=\"<!DOCTYPE html>\n",
       "<head>\n",
       "   <meta http-equiv=&quot;content-type&quot; content=&quot;text/html; charset=UTF-8&quot; />\n",
       "   <link rel=&quot;stylesheet&quot; href=&quot;//cdnjs.cloudflare.com/ajax/libs/leaflet/0.7.3/leaflet.css&quot; />\n",
       "   <script src=&quot;//cdnjs.cloudflare.com/ajax/libs/leaflet/0.7.3/leaflet.js&quot;></script>\n",
       "   <script src=&quot;//cdnjs.cloudflare.com/ajax/libs/d3/3.5.5/d3.min.js&quot; charset=&quot;utf-8&quot;></script>\n",
       "   <script src=&quot;//cdnjs.cloudflare.com/ajax/libs/queue-async/1.0.7/queue.min.js&quot;></script>\n",
       "\n",
       "   \n",
       "   \n",
       "   \n",
       "   \n",
       "\n",
       "   <style>\n",
       "\n",
       "      html, body {\n",
       "        width: 100%;\n",
       "        height: 100%;\n",
       "        margin: 0;\n",
       "        padding: 0;\n",
       "      }\n",
       "\n",
       "      .legend {\n",
       "          padding: 0px 0px;\n",
       "          font: 10px sans-serif;\n",
       "          background: white;\n",
       "          background: rgba(255,255,255,0.8);\n",
       "          box-shadow: 0 0 15px rgba(0,0,0,0.2);\n",
       "          border-radius: 5px;\n",
       "      }\n",
       "\n",
       "      .key path {\n",
       "        display: none;\n",
       "      }\n",
       "\n",
       "   </style>\n",
       "</head>\n",
       "\n",
       "<body>\n",
       "\n",
       "   <div id=&quot;map&quot; style=&quot;width: 960px; height: 500px&quot;></div>\n",
       "\n",
       "   <script>\n",
       "\n",
       "      queue()\n",
       "          .defer(d3.json, '../data/us-states.json')\n",
       "          .await(makeMap)\n",
       "\n",
       "      function makeMap(error, gjson_1) {\n",
       "\n",
       "          \n",
       "\n",
       "          \n",
       "\n",
       "          function matchKey(datapoint, key_variable){\n",
       "              if (typeof key_variable[0][datapoint] === 'undefined') {\n",
       "                  return null;\n",
       "              }\n",
       "              else {\n",
       "                  return parseFloat(key_variable[0][datapoint]);\n",
       "              };\n",
       "          };\n",
       "\n",
       "          \n",
       "\n",
       "          var map = L.map('map').setView([51.5135015, -0.1362392], 3);\n",
       "\n",
       "          L.tileLayer('http://{s}.tile.stamen.com/toner/{z}/{x}/{y}.jpg', {\n",
       "              maxZoom: 18,\n",
       "              minZoom: 1,\n",
       "              attribution: 'Map tiles by <a href=&quot;http://stamen.com&quot;>Stamen Design</a>, under <a href=&quot;http://creativecommons.org/licenses/by/3.0&quot;>CC BY 3.0</a>. Data by <a href=&quot;http://openstreetmap.org&quot;>OpenStreetMap</a>, under <a href=&quot;http://creativecommons.org/licenses/by-sa/3.0&quot;>CC BY SA</a>.'\n",
       "          }).addTo(map);\n",
       "\n",
       "          \n",
       "\n",
       "          \n",
       "\n",
       "          \n",
       "\n",
       "          \n",
       "\n",
       "          \n",
       "\n",
       "          \n",
       "          function style_1(feature) {\n",
       "    return {\n",
       "        fillColor: 'blue',\n",
       "        weight: 1,\n",
       "        opacity: 1,\n",
       "        color: 'black',\n",
       "        fillOpacity: 0.6\n",
       "    };\n",
       "}\n",
       "          \n",
       "\n",
       "          \n",
       "          gJson_layer_1 = L.geoJson(gjson_1, {style: style_1}).addTo(map)\n",
       "          \n",
       "\n",
       "          \n",
       "\n",
       "      };\n",
       "\n",
       "   </script>\n",
       "</body>\" style=\"width: 960px; height: 500px; border: none\"></iframe>"
      ],
      "text/plain": [
       "<IPython.core.display.HTML object>"
      ]
     },
     "execution_count": 2,
     "metadata": {},
     "output_type": "execute_result"
    }
   ],
   "source": [
    "region = MapRegion(geo_path='../data/us-states.json')\n",
    "draw_map((51.5135015, -0.1362392), regions=[region], zoom=3)"
   ]
  }
 ],
 "metadata": {
  "kernelspec": {
   "display_name": "Python 3",
   "language": "python",
   "name": "python3"
  },
  "language_info": {
   "codemirror_mode": {
    "name": "ipython",
    "version": 3
   },
   "file_extension": ".py",
   "mimetype": "text/x-python",
   "name": "python",
   "nbconvert_exporter": "python",
   "pygments_lexer": "ipython3",
   "version": "3.4.3"
  }
 },
 "nbformat": 4,
 "nbformat_minor": 0
}
